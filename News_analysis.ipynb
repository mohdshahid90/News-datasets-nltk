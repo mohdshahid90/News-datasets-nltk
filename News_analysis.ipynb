{
 "cells": [
  {
   "cell_type": "code",
   "execution_count": 3,
   "metadata": {},
   "outputs": [],
   "source": [
    "import os\n",
    "path = 'C:/Users/DELL/Downloads/Compressed/NLP-Data-sets/Dats sets/mini_newsgroups/mini_newsgroups/sci.space'\n",
    "doc_dict = {}\n",
    "\n",
    "for subdir,dirs, files in os.walk(path):\n",
    "    for file in files:\n",
    "        file_path = subdir + os.path.sep + file\n",
    "        f = open(file_path, 'r')\n",
    "        text = f.read()\n",
    "        doc_dict[file] = text"
   ]
  },
  {
   "cell_type": "code",
   "execution_count": 4,
   "metadata": {},
   "outputs": [
    {
     "name": "stdout",
     "output_type": "stream",
     "text": [
      "dict_keys(['59848', '59904', '60154', '60171', '60181', '60191', '60222', '60229', '60237', '60243', '60794', '60804', '60821', '60822', '60827', '60834', '60840', '60843', '60913', '60925', '60929', '60937', '60941', '60942', '60944', '60946', '60950', '60960', '60962', '60972', '60976', '60993', '60995', '61009', '61017', '61027', '61038', '61046', '61051', '61057', '61066', '61087', '61106', '61118', '61136', '61145', '61154', '61160', '61165', '61171', '61180', '61187', '61189', '61191', '61192', '61205', '61208', '61215', '61224', '61230', '61236', '61253', '61256', '61262', '61265', '61271', '61272', '61276', '61277', '61293', '61316', '61318', '61324', '61335', '61344', '61352', '61353', '61362', '61363', '61371', '61401', '61404', '61431', '61440', '61450', '61455', '61459', '61461', '61484', '61505', '61532', '61534', '61546', '61558', '62319', '62398', '62408', '62428', '62477', '62480', 'desktop.ini'])\n"
     ]
    }
   ],
   "source": [
    "print(doc_dict.keys())"
   ]
  },
  {
   "cell_type": "code",
   "execution_count": 5,
   "metadata": {},
   "outputs": [
    {
     "data": {
      "text/plain": [
       "'Newsgroups: sci.space\\nPath: cantaloupe.srv.cs.cmu.edu!crabapple.srv.cs.cmu.edu!fs7.ece.cmu.edu!europa.eng.gtefsd.com!emory!swrinde!zaphod.mps.ohio-state.edu!uwm.edu!linac!uchinews!raistlin!runyon.cim.cdc.com!pbd\\nFrom: pbd@runyon.cim.cdc.com (Paul Dokas)\\nSubject: Big amateur rockets\\nOrganization: ICEM Systems, Inc.\\nDate: Fri, 16 Apr 1993 14:15:34 GMT\\nMessage-ID: <C5Ky9y.MKK@raistlin.udev.cdc.com>\\nSender: usenet@raistlin.udev.cdc.com (News poster)\\nLines: 23\\n\\nI was reading Popular Science this morning and was surprised by an ad in\\nthe back.  I know that a lot of the ads in the back of PS are fringe\\nscience or questionablely legal, but this one really grabbed my attention.\\nIt was from a company name \"Personal Missle, Inc.\" or something like that.\\n\\nAnyhow, the ad stated that they\\'d sell rockets that were up to 20\\' in length\\nand engines of sizes \"F\" to \"M\".  They also said that some rockets will\\nreach 50,000 feet.\\n\\nNow, aside from the obvious dangers to any amateur rocketeer using one\\nof these beasts, isn\\'t this illegal?  I can\\'t imagine the FAA allowing\\npeople to shoot rockets up through the flight levels of passenger planes.\\nNot to even mention the problem of locating a rocket when it comes down.\\n\\nAnd no, I\\'m not going to even think of buying one.  I\\'m not that crazy.\\n\\n\\n-Paul \"mine\\'ll do 50,000 feet and carries 50 pounds of dynamite\" Dokas\\n-- \\n#include <std.disclaimer>\\n#define FULL_NAME                          \"Paul Dokas\"\\n#define EMAIL                              \"pbd@runyon.cim.cdc.com\"\\n/*            Just remember, you *WILL* die someday.             */\\n'"
      ]
     },
     "execution_count": 5,
     "metadata": {},
     "output_type": "execute_result"
    }
   ],
   "source": [
    "doc_dict['60804']"
   ]
  },
  {
   "cell_type": "code",
   "execution_count": 8,
   "metadata": {},
   "outputs": [
    {
     "data": {
      "text/plain": [
       "'newsgroups: sci.space\\npath: cantaloupe.srv.cs.cmu.edu!crabapple.srv.cs.cmu.edu!fs7.ece.cmu.edu!europa.eng.gtefsd.com!emory!swrinde!zaphod.mps.ohio-state.edu!uwm.edu!linac!uchinews!raistlin!runyon.cim.cdc.com!pbd\\nfrom: pbd@runyon.cim.cdc.com (paul dokas)\\nsubject: big amateur rockets\\norganization: icem systems, inc.\\ndate: fri, 16 apr 1993 14:15:34 gmt\\nmessage-id: <c5ky9y.mkk@raistlin.udev.cdc.com>\\nsender: usenet@raistlin.udev.cdc.com (news poster)\\nlines: 23\\n\\ni was reading popular science this morning and was surprised by an ad in\\nthe back.  i know that a lot of the ads in the back of ps are fringe\\nscience or questionablely legal, but this one really grabbed my attention.\\nit was from a company name \"personal missle, inc.\" or something like that.\\n\\nanyhow, the ad stated that they\\'d sell rockets that were up to 20\\' in length\\nand engines of sizes \"f\" to \"m\".  they also said that some rockets will\\nreach 50,000 feet.\\n\\nnow, aside from the obvious dangers to any amateur rocketeer using one\\nof these beasts, isn\\'t this illegal?  i can\\'t imagine the faa allowing\\npeople to shoot rockets up through the flight levels of passenger planes.\\nnot to even mention the problem of locating a rocket when it comes down.\\n\\nand no, i\\'m not going to even think of buying one.  i\\'m not that crazy.\\n\\n\\n-paul \"mine\\'ll do 50,000 feet and carries 50 pounds of dynamite\" dokas\\n-- \\n#include <std.disclaimer>\\n#define full_name                          \"paul dokas\"\\n#define email                              \"pbd@runyon.cim.cdc.com\"\\n/*            just remember, you *will* die someday.             */\\n'"
      ]
     },
     "execution_count": 8,
     "metadata": {},
     "output_type": "execute_result"
    }
   ],
   "source": [
    "##Lowering all the cases\n",
    "\n",
    "for my_var in doc_dict:\n",
    "    doc_dict[my_var] = doc_dict[my_var].lower()\n",
    "doc_dict['60804']    "
   ]
  },
  {
   "cell_type": "code",
   "execution_count": 11,
   "metadata": {},
   "outputs": [
    {
     "data": {
      "text/plain": [
       "'newsgroups sci space path cantaloupe srv cs cmu edu crabapple srv cs cmu edu fs ece cmu edu europa eng gtefsd com emory swrinde zaphod mps ohio state edu uwm edu linac uchinews raistlin runyon cim cdc com pbd from pbd runyon cim cdc com paul dokas subject big amateur rockets organization icem systems inc date fri apr gmt message id c ky y mkk raistlin udev cdc com sender usenet raistlin udev cdc com news poster lines i was reading popular science this morning and was surprised by an ad in the back i know that a lot of the ads in the back of ps are fringe science or questionablely legal but this one really grabbed my attention it was from a company name personal missle inc or something like that anyhow the ad stated that they d sell rockets that were up to in length and engines of sizes f to m they also said that some rockets will reach feet now aside from the obvious dangers to any amateur rocketeer using one of these beasts isn t this illegal i can t imagine the faa allowing people to shoot rockets up through the flight levels of passenger planes not to even mention the problem of locating a rocket when it comes down and no i m not going to even think of buying one i m not that crazy paul mine ll do feet and carries pounds of dynamite dokas include std disclaimer define full name paul dokas define email pbd runyon cim cdc com just remember you will die someday '"
      ]
     },
     "execution_count": 11,
     "metadata": {},
     "output_type": "execute_result"
    }
   ],
   "source": [
    "#Removing Numbers & Punctuations\n",
    "\n",
    "import re\n",
    "\n",
    "for my_var in doc_dict:\n",
    "    doc_dict[my_var] = re.sub(r'\\d+',\" \",doc_dict[my_var])\n",
    "    doc_dict[my_var] = re.sub(r'\\W+|\\_',\" \",doc_dict[my_var])\n",
    "    \n",
    "    \n",
    "doc_dict['60804']"
   ]
  },
  {
   "cell_type": "code",
   "execution_count": 13,
   "metadata": {},
   "outputs": [
    {
     "data": {
      "text/plain": [
       "'newsgroups sci space path cantaloupe srv cs cmu edu crabapple srv cs cmu edu fs ece cmu edu europa eng gtefsd com emory swrinde zaphod mps ohio state edu uwm edu linac uchinews raistlin runyon cim cdc com pbd pbd runyon cim cdc com paul dokas subject big amateur rockets organization icem systems inc date fri apr gmt message id c ky mkk raistlin udev cdc com sender usenet raistlin udev cdc com news poster lines reading popular science morning surprised ad back know lot ads back ps fringe science questionablely legal one really grabbed attention company name personal missle inc something like anyhow ad stated sell rockets length engines sizes f also said rockets reach feet aside obvious dangers amateur rocketeer using one beasts illegal imagine faa allowing people shoot rockets flight levels passenger planes even mention problem locating rocket comes going even think buying one crazy paul mine feet carries pounds dynamite dokas include std disclaimer define full name paul dokas define email pbd runyon cim cdc com remember die someday'"
      ]
     },
     "execution_count": 13,
     "metadata": {},
     "output_type": "execute_result"
    }
   ],
   "source": [
    "from nltk.corpus import stopwords\n",
    "from nltk import word_tokenize\n",
    "stop = stopwords.words('english')\n",
    "for my_var in doc_dict:\n",
    "    doc_dict[my_var] = ' '.join([i for i in word_tokenize(doc_dict[my_var]) if i not in stop])\n",
    "    \n",
    "\n",
    "doc_dict['60804']"
   ]
  },
  {
   "cell_type": "code",
   "execution_count": 14,
   "metadata": {},
   "outputs": [
    {
     "data": {
      "text/plain": [
       "'newsgroups sci space path cantaloupe srv cs cmu edu crabapple srv cs cmu edu fs ece cmu edu europa eng gtefsd com emory swrinde zaphod mps ohio state edu uwm edu linac uchinews raistlin runyon cim cdc com pbd pbd runyon cim cdc com paul dokas subject big amateur rockets organization icem systems inc date fri apr gmt message id c ky mkk raistlin udev cdc com sender usenet raistlin udev cdc com poster lines reading popular science morning surprised ad back know lot ads back ps fringe science questionablely legal one really grabbed attention company name personal missle inc something like anyhow ad stated sell rockets length engines sizes f also said rockets reach feet aside obvious dangers amateur rocketeer using one beasts illegal imagine faa allowing people shoot rockets flight levels passenger planes even mention problem locating rocket comes going even think buying one crazy paul mine feet carries pounds dynamite dokas include std disclaimer define full name paul dokas define email pbd runyon cim cdc com remember die someday'"
      ]
     },
     "execution_count": 14,
     "metadata": {},
     "output_type": "execute_result"
    }
   ],
   "source": [
    "# Removing custom stopwords\n",
    "\n",
    "custom_stop = stopwords.words('english') + ['news','writes','told']\n",
    "for my_var in doc_dict:\n",
    "    doc_dict[my_var] = ' '.join([i for i in word_tokenize(doc_dict[my_var]) if i not in custom_stop])\n",
    "    \n",
    "\n",
    "doc_dict['60804']"
   ]
  },
  {
   "cell_type": "code",
   "execution_count": 15,
   "metadata": {},
   "outputs": [
    {
     "data": {
      "text/plain": [
       "'newsgroups sci space path cantaloupe srv c cmu edu crabapple srv c cmu edu f ece cmu edu europa eng gtefsd com emory swrinde zaphod mp ohio state edu uwm edu linac uchinews raistlin runyon cim cdc com pbd pbd runyon cim cdc com paul dokas subject big amateur rocket organization icem system inc date fri apr gmt message id c ky mkk raistlin udev cdc com sender usenet raistlin udev cdc com poster line reading popular science morning surprised ad back know lot ad back p fringe science questionablely legal one really grabbed attention company name personal missle inc something like anyhow ad stated sell rocket length engine size f also said rocket reach foot aside obvious danger amateur rocketeer using one beast illegal imagine faa allowing people shoot rocket flight level passenger plane even mention problem locating rocket come going even think buying one crazy paul mine foot carry pound dynamite dokas include std disclaimer define full name paul dokas define email pbd runyon cim cdc com remember die someday'"
      ]
     },
     "execution_count": 15,
     "metadata": {},
     "output_type": "execute_result"
    }
   ],
   "source": [
    "# Lemmatizing\n",
    "\n",
    "from nltk.stem import WordNetLemmatizer\n",
    "lemmatizer = WordNetLemmatizer()\n",
    "for my_var in doc_dict:\n",
    "    doc_dict[my_var] = ' '.join([lemmatizer.lemmatize(i) for i in word_tokenize(doc_dict[my_var]) if i in word_tokenize(doc_dict[my_var])])\n",
    "    \n",
    "\n",
    "doc_dict['60804']"
   ]
  },
  {
   "cell_type": "code",
   "execution_count": null,
   "metadata": {},
   "outputs": [],
   "source": []
  }
 ],
 "metadata": {
  "kernelspec": {
   "display_name": "Python 3",
   "language": "python",
   "name": "python3"
  },
  "language_info": {
   "codemirror_mode": {
    "name": "ipython",
    "version": 3
   },
   "file_extension": ".py",
   "mimetype": "text/x-python",
   "name": "python",
   "nbconvert_exporter": "python",
   "pygments_lexer": "ipython3",
   "version": "3.7.0"
  }
 },
 "nbformat": 4,
 "nbformat_minor": 2
}
